{
 "cells": [
  {
   "cell_type": "markdown",
   "metadata": {},
   "source": [
    "# **Clean and Prep EASD Race Results**"
   ]
  },
  {
   "cell_type": "markdown",
   "metadata": {},
   "source": [
    "Run on Python 3.12 | No errors | No warnings"
   ]
  },
  {
   "cell_type": "code",
   "execution_count": 1,
   "metadata": {},
   "outputs": [],
   "source": [
    "# Import packages\n",
    "\n",
    "# For data manipulation\n",
    "import pandas as pd\n",
    "\n",
    "# for displaying and modifying the working directory\n",
    "import os as os"
   ]
  },
  {
   "cell_type": "code",
   "execution_count": 2,
   "metadata": {},
   "outputs": [
    {
     "data": {
      "text/html": [
       "<div>\n",
       "<style scoped>\n",
       "    .dataframe tbody tr th:only-of-type {\n",
       "        vertical-align: middle;\n",
       "    }\n",
       "\n",
       "    .dataframe tbody tr th {\n",
       "        vertical-align: top;\n",
       "    }\n",
       "\n",
       "    .dataframe thead th {\n",
       "        text-align: right;\n",
       "    }\n",
       "</style>\n",
       "<table border=\"1\" class=\"dataframe\">\n",
       "  <thead>\n",
       "    <tr style=\"text-align: right;\">\n",
       "      <th></th>\n",
       "      <th>Name</th>\n",
       "      <th>Gender</th>\n",
       "      <th>Country</th>\n",
       "      <th>Time</th>\n",
       "    </tr>\n",
       "  </thead>\n",
       "  <tbody>\n",
       "    <tr>\n",
       "      <th>0</th>\n",
       "      <td>Muntasir Ahmad Abdul Kareem Alzghoul</td>\n",
       "      <td>Male</td>\n",
       "      <td>JO</td>\n",
       "      <td>00:14:45</td>\n",
       "    </tr>\n",
       "    <tr>\n",
       "      <th>1</th>\n",
       "      <td>Darelle Andrade</td>\n",
       "      <td>Male</td>\n",
       "      <td>PH</td>\n",
       "      <td>00:14:45</td>\n",
       "    </tr>\n",
       "    <tr>\n",
       "      <th>2</th>\n",
       "      <td>Mohamed Awny</td>\n",
       "      <td>Male</td>\n",
       "      <td>EG</td>\n",
       "      <td>00:14:45</td>\n",
       "    </tr>\n",
       "    <tr>\n",
       "      <th>3</th>\n",
       "      <td>Bojana Bogojevic</td>\n",
       "      <td>Female</td>\n",
       "      <td>RS</td>\n",
       "      <td>00:14:45</td>\n",
       "    </tr>\n",
       "    <tr>\n",
       "      <th>4</th>\n",
       "      <td>Ephraim Joshua</td>\n",
       "      <td>Male</td>\n",
       "      <td>TZ</td>\n",
       "      <td>00:14:45</td>\n",
       "    </tr>\n",
       "  </tbody>\n",
       "</table>\n",
       "</div>"
      ],
      "text/plain": [
       "                                   Name  Gender Country      Time\n",
       "0  Muntasir Ahmad Abdul Kareem Alzghoul    Male      JO  00:14:45\n",
       "1                       Darelle Andrade    Male      PH  00:14:45\n",
       "2                          Mohamed Awny    Male      EG  00:14:45\n",
       "3                      Bojana Bogojevic  Female      RS  00:14:45\n",
       "4                        Ephraim Joshua    Male      TZ  00:14:45"
      ]
     },
     "execution_count": 2,
     "metadata": {},
     "output_type": "execute_result"
    }
   ],
   "source": [
    "# Tell python where to find the dataset and load it to dataframe df0\n",
    "os.chdir(r'D:\\OneDrive\\Documents\\Python\\Current\\Race Results') # absolute path, using \\ and r prefix\n",
    "df0 = pd.read_csv(\"EASD_race_results.csv\", usecols=['Name', 'Gender', 'Country', 'Time'])\n",
    "\n",
    "# Display the first 5 rows of the dataframe\n",
    "df0.head()"
   ]
  },
  {
   "cell_type": "code",
   "execution_count": 3,
   "metadata": {},
   "outputs": [
    {
     "name": "stdout",
     "output_type": "stream",
     "text": [
      "<class 'pandas.core.frame.DataFrame'>\n",
      "RangeIndex: 4461 entries, 0 to 4460\n",
      "Data columns (total 4 columns):\n",
      " #   Column   Non-Null Count  Dtype \n",
      "---  ------   --------------  ----- \n",
      " 0   Name     4461 non-null   object\n",
      " 1   Gender   4461 non-null   object\n",
      " 2   Country  4458 non-null   object\n",
      " 3   Time     4461 non-null   object\n",
      "dtypes: object(4)\n",
      "memory usage: 139.5+ KB\n"
     ]
    }
   ],
   "source": [
    "# Display basic information about the data \n",
    "df0.info()"
   ]
  },
  {
   "cell_type": "code",
   "execution_count": 4,
   "metadata": {},
   "outputs": [
    {
     "data": {
      "text/plain": [
       "np.int64(31)"
      ]
     },
     "execution_count": 4,
     "metadata": {},
     "output_type": "execute_result"
    }
   ],
   "source": [
    "# Count the number of duplicate rows\n",
    "df0.duplicated().sum()"
   ]
  },
  {
   "cell_type": "code",
   "execution_count": 5,
   "metadata": {},
   "outputs": [],
   "source": [
    "# Drop duplicate rows\n",
    "df0 = df0.drop_duplicates()"
   ]
  },
  {
   "cell_type": "code",
   "execution_count": 6,
   "metadata": {},
   "outputs": [
    {
     "name": "stdout",
     "output_type": "stream",
     "text": [
      "<class 'pandas.core.frame.DataFrame'>\n",
      "Index: 4430 entries, 0 to 4460\n",
      "Data columns (total 4 columns):\n",
      " #   Column   Non-Null Count  Dtype \n",
      "---  ------   --------------  ----- \n",
      " 0   Name     4430 non-null   object\n",
      " 1   Gender   4430 non-null   object\n",
      " 2   Country  4427 non-null   object\n",
      " 3   Time     4430 non-null   object\n",
      "dtypes: object(4)\n",
      "memory usage: 173.0+ KB\n"
     ]
    }
   ],
   "source": [
    "# Verify that the duplicates have been removed\n",
    "df0.info()"
   ]
  },
  {
   "cell_type": "code",
   "execution_count": 7,
   "metadata": {},
   "outputs": [],
   "source": [
    "# Add a column for the year\n",
    "df0['Year'] = 2024"
   ]
  },
  {
   "cell_type": "code",
   "execution_count": 8,
   "metadata": {},
   "outputs": [],
   "source": [
    "# Add a column for the race name\n",
    "df0['Race'] = 'EASD'"
   ]
  },
  {
   "cell_type": "code",
   "execution_count": 9,
   "metadata": {},
   "outputs": [],
   "source": [
    "# Drop the Name column\n",
    "df0 = df0.drop(columns=['Name'])"
   ]
  },
  {
   "cell_type": "code",
   "execution_count": 10,
   "metadata": {},
   "outputs": [
    {
     "data": {
      "text/html": [
       "<div>\n",
       "<style scoped>\n",
       "    .dataframe tbody tr th:only-of-type {\n",
       "        vertical-align: middle;\n",
       "    }\n",
       "\n",
       "    .dataframe tbody tr th {\n",
       "        vertical-align: top;\n",
       "    }\n",
       "\n",
       "    .dataframe thead th {\n",
       "        text-align: right;\n",
       "    }\n",
       "</style>\n",
       "<table border=\"1\" class=\"dataframe\">\n",
       "  <thead>\n",
       "    <tr style=\"text-align: right;\">\n",
       "      <th></th>\n",
       "      <th>Gender</th>\n",
       "      <th>Country</th>\n",
       "      <th>Time</th>\n",
       "      <th>Year</th>\n",
       "      <th>Race</th>\n",
       "    </tr>\n",
       "  </thead>\n",
       "  <tbody>\n",
       "    <tr>\n",
       "      <th>0</th>\n",
       "      <td>Male</td>\n",
       "      <td>JO</td>\n",
       "      <td>00:14:45</td>\n",
       "      <td>2024</td>\n",
       "      <td>EASD</td>\n",
       "    </tr>\n",
       "    <tr>\n",
       "      <th>1</th>\n",
       "      <td>Male</td>\n",
       "      <td>PH</td>\n",
       "      <td>00:14:45</td>\n",
       "      <td>2024</td>\n",
       "      <td>EASD</td>\n",
       "    </tr>\n",
       "    <tr>\n",
       "      <th>2</th>\n",
       "      <td>Male</td>\n",
       "      <td>EG</td>\n",
       "      <td>00:14:45</td>\n",
       "      <td>2024</td>\n",
       "      <td>EASD</td>\n",
       "    </tr>\n",
       "    <tr>\n",
       "      <th>3</th>\n",
       "      <td>Female</td>\n",
       "      <td>RS</td>\n",
       "      <td>00:14:45</td>\n",
       "      <td>2024</td>\n",
       "      <td>EASD</td>\n",
       "    </tr>\n",
       "    <tr>\n",
       "      <th>4</th>\n",
       "      <td>Male</td>\n",
       "      <td>TZ</td>\n",
       "      <td>00:14:45</td>\n",
       "      <td>2024</td>\n",
       "      <td>EASD</td>\n",
       "    </tr>\n",
       "  </tbody>\n",
       "</table>\n",
       "</div>"
      ],
      "text/plain": [
       "   Gender Country      Time  Year  Race\n",
       "0    Male      JO  00:14:45  2024  EASD\n",
       "1    Male      PH  00:14:45  2024  EASD\n",
       "2    Male      EG  00:14:45  2024  EASD\n",
       "3  Female      RS  00:14:45  2024  EASD\n",
       "4    Male      TZ  00:14:45  2024  EASD"
      ]
     },
     "execution_count": 10,
     "metadata": {},
     "output_type": "execute_result"
    }
   ],
   "source": [
    "# Verify the changes\n",
    "df0.head()"
   ]
  },
  {
   "cell_type": "code",
   "execution_count": 11,
   "metadata": {},
   "outputs": [],
   "source": [
    "# Drop the rows with missing values for Country\n",
    "df0 = df0.dropna(subset=['Country'])"
   ]
  },
  {
   "cell_type": "code",
   "execution_count": 12,
   "metadata": {},
   "outputs": [],
   "source": [
    "# Replace blank values in 'Gender' column with 'Not Specified'\n",
    "df0.fillna({'Gender': 'Not Specified'}, inplace=True)"
   ]
  },
  {
   "cell_type": "code",
   "execution_count": 13,
   "metadata": {},
   "outputs": [],
   "source": [
    "# Rename Country to Country Code\n",
    "df0 = df0.rename(columns={'Country': 'Country Code'})"
   ]
  },
  {
   "cell_type": "code",
   "execution_count": 14,
   "metadata": {},
   "outputs": [],
   "source": [
    "# Change the column order\n",
    "df0 = df0[['Race', 'Year', 'Country Code', 'Gender', 'Time']]"
   ]
  },
  {
   "cell_type": "code",
   "execution_count": 15,
   "metadata": {},
   "outputs": [
    {
     "data": {
      "text/html": [
       "<div>\n",
       "<style scoped>\n",
       "    .dataframe tbody tr th:only-of-type {\n",
       "        vertical-align: middle;\n",
       "    }\n",
       "\n",
       "    .dataframe tbody tr th {\n",
       "        vertical-align: top;\n",
       "    }\n",
       "\n",
       "    .dataframe thead th {\n",
       "        text-align: right;\n",
       "    }\n",
       "</style>\n",
       "<table border=\"1\" class=\"dataframe\">\n",
       "  <thead>\n",
       "    <tr style=\"text-align: right;\">\n",
       "      <th></th>\n",
       "      <th>Race</th>\n",
       "      <th>Year</th>\n",
       "      <th>Country Code</th>\n",
       "      <th>Gender</th>\n",
       "      <th>Time</th>\n",
       "    </tr>\n",
       "  </thead>\n",
       "  <tbody>\n",
       "    <tr>\n",
       "      <th>0</th>\n",
       "      <td>EASD</td>\n",
       "      <td>2024</td>\n",
       "      <td>JO</td>\n",
       "      <td>Male</td>\n",
       "      <td>00:14:45</td>\n",
       "    </tr>\n",
       "    <tr>\n",
       "      <th>1</th>\n",
       "      <td>EASD</td>\n",
       "      <td>2024</td>\n",
       "      <td>PH</td>\n",
       "      <td>Male</td>\n",
       "      <td>00:14:45</td>\n",
       "    </tr>\n",
       "    <tr>\n",
       "      <th>2</th>\n",
       "      <td>EASD</td>\n",
       "      <td>2024</td>\n",
       "      <td>EG</td>\n",
       "      <td>Male</td>\n",
       "      <td>00:14:45</td>\n",
       "    </tr>\n",
       "    <tr>\n",
       "      <th>3</th>\n",
       "      <td>EASD</td>\n",
       "      <td>2024</td>\n",
       "      <td>RS</td>\n",
       "      <td>Female</td>\n",
       "      <td>00:14:45</td>\n",
       "    </tr>\n",
       "    <tr>\n",
       "      <th>4</th>\n",
       "      <td>EASD</td>\n",
       "      <td>2024</td>\n",
       "      <td>TZ</td>\n",
       "      <td>Male</td>\n",
       "      <td>00:14:45</td>\n",
       "    </tr>\n",
       "  </tbody>\n",
       "</table>\n",
       "</div>"
      ],
      "text/plain": [
       "   Race  Year Country Code  Gender      Time\n",
       "0  EASD  2024           JO    Male  00:14:45\n",
       "1  EASD  2024           PH    Male  00:14:45\n",
       "2  EASD  2024           EG    Male  00:14:45\n",
       "3  EASD  2024           RS  Female  00:14:45\n",
       "4  EASD  2024           TZ    Male  00:14:45"
      ]
     },
     "execution_count": 15,
     "metadata": {},
     "output_type": "execute_result"
    }
   ],
   "source": [
    "# Verify the changes\n",
    "df0.head()"
   ]
  },
  {
   "cell_type": "code",
   "execution_count": 16,
   "metadata": {},
   "outputs": [
    {
     "name": "stdout",
     "output_type": "stream",
     "text": [
      "<class 'pandas.core.frame.DataFrame'>\n",
      "Index: 4427 entries, 0 to 4460\n",
      "Data columns (total 5 columns):\n",
      " #   Column        Non-Null Count  Dtype \n",
      "---  ------        --------------  ----- \n",
      " 0   Race          4427 non-null   object\n",
      " 1   Year          4427 non-null   int64 \n",
      " 2   Country Code  4427 non-null   object\n",
      " 3   Gender        4427 non-null   object\n",
      " 4   Time          4427 non-null   object\n",
      "dtypes: int64(1), object(4)\n",
      "memory usage: 207.5+ KB\n"
     ]
    }
   ],
   "source": [
    "# Check the record count\n",
    "df0.info()"
   ]
  },
  {
   "cell_type": "code",
   "execution_count": 17,
   "metadata": {},
   "outputs": [],
   "source": [
    "# Load data for previous years\n",
    "df1 = pd.read_csv(\"EASD Race Data 2023.csv\")"
   ]
  },
  {
   "cell_type": "code",
   "execution_count": 18,
   "metadata": {},
   "outputs": [],
   "source": [
    "# Concatenate the dataframes\n",
    "df2 = pd.concat([df0, df1])"
   ]
  },
  {
   "cell_type": "code",
   "execution_count": 19,
   "metadata": {},
   "outputs": [
    {
     "name": "stdout",
     "output_type": "stream",
     "text": [
      "<class 'pandas.core.frame.DataFrame'>\n",
      "Index: 11155 entries, 0 to 6727\n",
      "Data columns (total 5 columns):\n",
      " #   Column        Non-Null Count  Dtype \n",
      "---  ------        --------------  ----- \n",
      " 0   Race          11155 non-null  object\n",
      " 1   Year          11155 non-null  int64 \n",
      " 2   Country Code  11155 non-null  object\n",
      " 3   Gender        11155 non-null  object\n",
      " 4   Time          11155 non-null  object\n",
      "dtypes: int64(1), object(4)\n",
      "memory usage: 522.9+ KB\n"
     ]
    }
   ],
   "source": [
    "# Verify the changes\n",
    "df2.info()"
   ]
  },
  {
   "cell_type": "code",
   "execution_count": 20,
   "metadata": {},
   "outputs": [
    {
     "data": {
      "text/html": [
       "<div>\n",
       "<style scoped>\n",
       "    .dataframe tbody tr th:only-of-type {\n",
       "        vertical-align: middle;\n",
       "    }\n",
       "\n",
       "    .dataframe tbody tr th {\n",
       "        vertical-align: top;\n",
       "    }\n",
       "\n",
       "    .dataframe thead th {\n",
       "        text-align: right;\n",
       "    }\n",
       "</style>\n",
       "<table border=\"1\" class=\"dataframe\">\n",
       "  <thead>\n",
       "    <tr style=\"text-align: right;\">\n",
       "      <th></th>\n",
       "      <th>Race</th>\n",
       "      <th>Year</th>\n",
       "      <th>Country Code</th>\n",
       "      <th>Gender</th>\n",
       "      <th>Time</th>\n",
       "    </tr>\n",
       "  </thead>\n",
       "  <tbody>\n",
       "    <tr>\n",
       "      <th>0</th>\n",
       "      <td>EASD</td>\n",
       "      <td>2024</td>\n",
       "      <td>JO</td>\n",
       "      <td>Male</td>\n",
       "      <td>00:14:45</td>\n",
       "    </tr>\n",
       "    <tr>\n",
       "      <th>1</th>\n",
       "      <td>EASD</td>\n",
       "      <td>2024</td>\n",
       "      <td>PH</td>\n",
       "      <td>Male</td>\n",
       "      <td>00:14:45</td>\n",
       "    </tr>\n",
       "    <tr>\n",
       "      <th>2</th>\n",
       "      <td>EASD</td>\n",
       "      <td>2024</td>\n",
       "      <td>EG</td>\n",
       "      <td>Male</td>\n",
       "      <td>00:14:45</td>\n",
       "    </tr>\n",
       "    <tr>\n",
       "      <th>3</th>\n",
       "      <td>EASD</td>\n",
       "      <td>2024</td>\n",
       "      <td>RS</td>\n",
       "      <td>Female</td>\n",
       "      <td>00:14:45</td>\n",
       "    </tr>\n",
       "    <tr>\n",
       "      <th>4</th>\n",
       "      <td>EASD</td>\n",
       "      <td>2024</td>\n",
       "      <td>TZ</td>\n",
       "      <td>Male</td>\n",
       "      <td>00:14:45</td>\n",
       "    </tr>\n",
       "  </tbody>\n",
       "</table>\n",
       "</div>"
      ],
      "text/plain": [
       "   Race  Year Country Code  Gender      Time\n",
       "0  EASD  2024           JO    Male  00:14:45\n",
       "1  EASD  2024           PH    Male  00:14:45\n",
       "2  EASD  2024           EG    Male  00:14:45\n",
       "3  EASD  2024           RS  Female  00:14:45\n",
       "4  EASD  2024           TZ    Male  00:14:45"
      ]
     },
     "execution_count": 20,
     "metadata": {},
     "output_type": "execute_result"
    }
   ],
   "source": [
    "# Display the first 5 rows\n",
    "df2.head()"
   ]
  },
  {
   "cell_type": "code",
   "execution_count": 21,
   "metadata": {},
   "outputs": [],
   "source": [
    "# Sort df2 by Race and Year\n",
    "df2 = df2.sort_values(by=['Race', 'Year'])"
   ]
  },
  {
   "cell_type": "code",
   "execution_count": 22,
   "metadata": {},
   "outputs": [
    {
     "data": {
      "text/html": [
       "<div>\n",
       "<style scoped>\n",
       "    .dataframe tbody tr th:only-of-type {\n",
       "        vertical-align: middle;\n",
       "    }\n",
       "\n",
       "    .dataframe tbody tr th {\n",
       "        vertical-align: top;\n",
       "    }\n",
       "\n",
       "    .dataframe thead th {\n",
       "        text-align: right;\n",
       "    }\n",
       "</style>\n",
       "<table border=\"1\" class=\"dataframe\">\n",
       "  <thead>\n",
       "    <tr style=\"text-align: right;\">\n",
       "      <th></th>\n",
       "      <th>Race</th>\n",
       "      <th>Year</th>\n",
       "      <th>Country Code</th>\n",
       "      <th>Gender</th>\n",
       "      <th>Time</th>\n",
       "    </tr>\n",
       "  </thead>\n",
       "  <tbody>\n",
       "    <tr>\n",
       "      <th>0</th>\n",
       "      <td>EASD</td>\n",
       "      <td>2023</td>\n",
       "      <td>CO</td>\n",
       "      <td>Male</td>\n",
       "      <td>00:14:45</td>\n",
       "    </tr>\n",
       "    <tr>\n",
       "      <th>1</th>\n",
       "      <td>EASD</td>\n",
       "      <td>2023</td>\n",
       "      <td>EG</td>\n",
       "      <td>Female</td>\n",
       "      <td>00:14:45</td>\n",
       "    </tr>\n",
       "    <tr>\n",
       "      <th>2</th>\n",
       "      <td>EASD</td>\n",
       "      <td>2023</td>\n",
       "      <td>TN</td>\n",
       "      <td>Male</td>\n",
       "      <td>00:14:45</td>\n",
       "    </tr>\n",
       "    <tr>\n",
       "      <th>3</th>\n",
       "      <td>EASD</td>\n",
       "      <td>2023</td>\n",
       "      <td>IT</td>\n",
       "      <td>Male</td>\n",
       "      <td>00:14:45</td>\n",
       "    </tr>\n",
       "    <tr>\n",
       "      <th>4</th>\n",
       "      <td>EASD</td>\n",
       "      <td>2023</td>\n",
       "      <td>KE</td>\n",
       "      <td>Male</td>\n",
       "      <td>00:14:45</td>\n",
       "    </tr>\n",
       "  </tbody>\n",
       "</table>\n",
       "</div>"
      ],
      "text/plain": [
       "   Race  Year Country Code  Gender      Time\n",
       "0  EASD  2023           CO    Male  00:14:45\n",
       "1  EASD  2023           EG  Female  00:14:45\n",
       "2  EASD  2023           TN    Male  00:14:45\n",
       "3  EASD  2023           IT    Male  00:14:45\n",
       "4  EASD  2023           KE    Male  00:14:45"
      ]
     },
     "execution_count": 22,
     "metadata": {},
     "output_type": "execute_result"
    }
   ],
   "source": [
    "# Verify the changes\n",
    "df2.head()"
   ]
  },
  {
   "cell_type": "code",
   "execution_count": 23,
   "metadata": {},
   "outputs": [],
   "source": [
    "# Save the cleaned data to a new csv file\n",
    "df2.to_csv('EASD Race Data for Visualization.csv', index=False, encoding='utf-8')"
   ]
  }
 ],
 "metadata": {
  "kernelspec": {
   "display_name": "Python 3",
   "language": "python",
   "name": "python3"
  },
  "language_info": {
   "codemirror_mode": {
    "name": "ipython",
    "version": 3
   },
   "file_extension": ".py",
   "mimetype": "text/x-python",
   "name": "python",
   "nbconvert_exporter": "python",
   "pygments_lexer": "ipython3",
   "version": "3.12.4"
  }
 },
 "nbformat": 4,
 "nbformat_minor": 2
}

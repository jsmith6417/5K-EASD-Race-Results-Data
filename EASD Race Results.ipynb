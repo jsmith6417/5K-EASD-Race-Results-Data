{
 "cells": [
  {
   "cell_type": "markdown",
   "metadata": {},
   "source": [
    "# **EASD Race Results - Gather the Data**"
   ]
  },
  {
   "cell_type": "markdown",
   "metadata": {},
   "source": [
    "Run on Python 3.12 | No errors | No warnings"
   ]
  },
  {
   "cell_type": "code",
   "execution_count": 1,
   "metadata": {},
   "outputs": [],
   "source": [
    "# Step 0: Load the required libraries\n",
    "\n",
    "# To automate web browser interaction\n",
    "from selenium import webdriver\n",
    "from selenium.webdriver.common.by import By\n",
    "from selenium.webdriver.support.ui import WebDriverWait\n",
    "from selenium.webdriver.support import expected_conditions as EC\n",
    "from selenium.common.exceptions import NoSuchElementException, TimeoutException\n",
    "\n",
    "# To parse the HTML content of a webpage\n",
    "from bs4 import BeautifulSoup\n",
    "\n",
    "# For data manipulation\n",
    "import pandas as pd\n",
    "\n",
    "# To handle regular expressions for pattern matching and string manipulation\n",
    "import re\n",
    "\n",
    "# For handling exceptions and adding delays\n",
    "import time"
   ]
  },
  {
   "cell_type": "code",
   "execution_count": 2,
   "metadata": {},
   "outputs": [],
   "source": [
    "# Step 1: Set up the WebDriver\n",
    "\n",
    "# Initialize the WebDriver (Chrome in this case) and navigate to the target URL\n",
    "driver = webdriver.Chrome()  # or `webdriver.Firefox()`, etc.\n",
    "url = \"https://results.raceroster.com/v2/en-US/results/ggzzvyenhfrtr64g/results?page=1\"\n",
    "driver.get(url)"
   ]
  },
  {
   "cell_type": "code",
   "execution_count": 3,
   "metadata": {},
   "outputs": [],
   "source": [
    "# Step 2: Define a function to clean headers\n",
    "\n",
    "# This function removes unwanted text from headers and trims whitespace\n",
    "def clean_header(header):\n",
    "    return re.sub(r\"Click on any of the columns headers to apply sorting\", \"\", header).strip()"
   ]
  },
  {
   "cell_type": "code",
   "execution_count": 4,
   "metadata": {},
   "outputs": [],
   "source": [
    "# Step 3: Define a function to extract data from the current page\n",
    "def extract_data_from_page():\n",
    "    # Use BeautifulSoup to parse the loaded page\n",
    "    soup = BeautifulSoup(driver.page_source, 'html.parser')\n",
    "    \n",
    "    # Extract data\n",
    "    results = []\n",
    "    headers = []\n",
    "    \n",
    "    # Find the table body\n",
    "    table = soup.find('table')\n",
    "    if table is None:\n",
    "        raise ValueError(\"No table found on the page.\")\n",
    "    \n",
    "    thead = table.find('thead')\n",
    "    if thead:\n",
    "        headers = [clean_header(header.get_text(strip=True)) for header in thead.find_all('th')]\n",
    "\n",
    "    tbody = table.find('tbody')\n",
    "    if tbody:\n",
    "        for row in tbody.find_all('tr'):\n",
    "            cells = row.find_all('td')\n",
    "            row_data = [cell.get_text(strip=True) for cell in cells]\n",
    "            results.append(row_data)\n",
    "    \n",
    "    return headers, results"
   ]
  },
  {
   "cell_type": "code",
   "execution_count": 5,
   "metadata": {},
   "outputs": [],
   "source": [
    "# Step 4: Initialize an empty list to store all results\n",
    "all_results = []\n",
    "headers = []"
   ]
  },
  {
   "cell_type": "code",
   "execution_count": 6,
   "metadata": {},
   "outputs": [],
   "source": [
    "# Step 5: Extract data from the first page\n",
    "page_headers, page_results = extract_data_from_page()\n",
    "if not headers:\n",
    "    headers = page_headers\n",
    "all_results.extend(page_results)"
   ]
  },
  {
   "cell_type": "code",
   "execution_count": 7,
   "metadata": {},
   "outputs": [
    {
     "name": "stdout",
     "output_type": "stream",
     "text": [
      "Stopping pagination: No more pages or timeout.\n"
     ]
    }
   ],
   "source": [
    "# Step 6: Loop through the pagination to extract data from subsequent pages\n",
    "while True:\n",
    "    try:\n",
    "        # Find the \"Next\" button using aria-label attribute\n",
    "        next_button = WebDriverWait(driver, 10).until(\n",
    "            EC.element_to_be_clickable((By.XPATH, \"//button[@aria-label='Next']\"))\n",
    "        )\n",
    "        \n",
    "        # Click the \"Next\" button using JavaScript to ensure it works\n",
    "        driver.execute_script(\"arguments[0].click();\", next_button)\n",
    "\n",
    "        # Wait for the next page to load by checking the table presence\n",
    "        time.sleep(3)  # Adding a sleep to ensure page loads completely\n",
    "        WebDriverWait(driver, 10).until(\n",
    "            EC.presence_of_element_located((By.CSS_SELECTOR, \"table\"))\n",
    "        )\n",
    "\n",
    "        # Extract data from the new page and add to all_results\n",
    "        page_headers, page_results = extract_data_from_page()\n",
    "        if not headers:\n",
    "            headers = page_headers\n",
    "        all_results.extend(page_results)\n",
    "\n",
    "    except (NoSuchElementException, TimeoutException) as e:\n",
    "        # If there is no \"Next\" button or another issue, break the loop\n",
    "        print(\"Stopping pagination: No more pages or timeout.\")\n",
    "        break\n",
    "\n",
    "    except Exception as e:\n",
    "        # Handle other exceptions\n",
    "        print(f\"An error occurred: {e}\")\n",
    "        break"
   ]
  },
  {
   "cell_type": "code",
   "execution_count": 8,
   "metadata": {},
   "outputs": [],
   "source": [
    "# Step 7: Convert to DataFrame\n",
    "df0 = pd.DataFrame(all_results, columns=headers)"
   ]
  },
  {
   "cell_type": "code",
   "execution_count": 9,
   "metadata": {},
   "outputs": [
    {
     "data": {
      "text/html": [
       "<div>\n",
       "<style scoped>\n",
       "    .dataframe tbody tr th:only-of-type {\n",
       "        vertical-align: middle;\n",
       "    }\n",
       "\n",
       "    .dataframe tbody tr th {\n",
       "        vertical-align: top;\n",
       "    }\n",
       "\n",
       "    .dataframe thead th {\n",
       "        text-align: right;\n",
       "    }\n",
       "</style>\n",
       "<table border=\"1\" class=\"dataframe\">\n",
       "  <thead>\n",
       "    <tr style=\"text-align: right;\">\n",
       "      <th></th>\n",
       "      <th>Place</th>\n",
       "      <th>Gender Place</th>\n",
       "      <th>Age Group Place</th>\n",
       "      <th>Age Group Gender Place</th>\n",
       "      <th>Bib</th>\n",
       "      <th>Name</th>\n",
       "      <th>Gender</th>\n",
       "      <th>Country</th>\n",
       "      <th>Time</th>\n",
       "      <th>Verified</th>\n",
       "    </tr>\n",
       "  </thead>\n",
       "  <tbody>\n",
       "    <tr>\n",
       "      <th>0</th>\n",
       "      <td>1</td>\n",
       "      <td>1 / 2324</td>\n",
       "      <td>1 / 431</td>\n",
       "      <td>1 / 216</td>\n",
       "      <td>14956</td>\n",
       "      <td>Muntasir Ahmad Abdul Kareem Alzghoul</td>\n",
       "      <td>Male</td>\n",
       "      <td>JO</td>\n",
       "      <td>14:45</td>\n",
       "      <td></td>\n",
       "    </tr>\n",
       "    <tr>\n",
       "      <th>1</th>\n",
       "      <td>2</td>\n",
       "      <td>2 / 2324</td>\n",
       "      <td>1 / 716</td>\n",
       "      <td>1 / 375</td>\n",
       "      <td>18494</td>\n",
       "      <td>Darelle Andrade</td>\n",
       "      <td>Male</td>\n",
       "      <td>PH</td>\n",
       "      <td>14:45</td>\n",
       "      <td></td>\n",
       "    </tr>\n",
       "    <tr>\n",
       "      <th>2</th>\n",
       "      <td>3</td>\n",
       "      <td>3 / 2324</td>\n",
       "      <td>2 / 431</td>\n",
       "      <td>2 / 216</td>\n",
       "      <td>16354</td>\n",
       "      <td>Mohamed Awny</td>\n",
       "      <td>Male</td>\n",
       "      <td>EG</td>\n",
       "      <td>14:45</td>\n",
       "      <td></td>\n",
       "    </tr>\n",
       "    <tr>\n",
       "      <th>3</th>\n",
       "      <td>4</td>\n",
       "      <td>1 / 2112</td>\n",
       "      <td>1 / 650</td>\n",
       "      <td>1 / 354</td>\n",
       "      <td>8902</td>\n",
       "      <td>Bojana Bogojevic</td>\n",
       "      <td>Female</td>\n",
       "      <td>RS</td>\n",
       "      <td>14:45</td>\n",
       "      <td></td>\n",
       "    </tr>\n",
       "    <tr>\n",
       "      <th>4</th>\n",
       "      <td>5</td>\n",
       "      <td>4 / 2324</td>\n",
       "      <td>1 / 196</td>\n",
       "      <td>1 / 117</td>\n",
       "      <td>12430</td>\n",
       "      <td>Ephraim Joshua</td>\n",
       "      <td>Male</td>\n",
       "      <td>TZ</td>\n",
       "      <td>14:45</td>\n",
       "      <td></td>\n",
       "    </tr>\n",
       "  </tbody>\n",
       "</table>\n",
       "</div>"
      ],
      "text/plain": [
       "  Place Gender Place Age Group Place Age Group Gender Place    Bib  \\\n",
       "0     1     1 / 2324         1 / 431                1 / 216  14956   \n",
       "1     2     2 / 2324         1 / 716                1 / 375  18494   \n",
       "2     3     3 / 2324         2 / 431                2 / 216  16354   \n",
       "3     4     1 / 2112         1 / 650                1 / 354   8902   \n",
       "4     5     4 / 2324         1 / 196                1 / 117  12430   \n",
       "\n",
       "                                   Name  Gender Country   Time Verified  \n",
       "0  Muntasir Ahmad Abdul Kareem Alzghoul    Male      JO  14:45           \n",
       "1                       Darelle Andrade    Male      PH  14:45           \n",
       "2                          Mohamed Awny    Male      EG  14:45           \n",
       "3                      Bojana Bogojevic  Female      RS  14:45           \n",
       "4                        Ephraim Joshua    Male      TZ  14:45           "
      ]
     },
     "execution_count": 9,
     "metadata": {},
     "output_type": "execute_result"
    }
   ],
   "source": [
    "# Verify the columns and data\n",
    "df0.head()"
   ]
  },
  {
   "cell_type": "code",
   "execution_count": 10,
   "metadata": {},
   "outputs": [
    {
     "name": "stdout",
     "output_type": "stream",
     "text": [
      "<class 'pandas.core.frame.DataFrame'>\n",
      "RangeIndex: 4461 entries, 0 to 4460\n",
      "Data columns (total 10 columns):\n",
      " #   Column                  Non-Null Count  Dtype \n",
      "---  ------                  --------------  ----- \n",
      " 0   Place                   4461 non-null   object\n",
      " 1   Gender Place            4461 non-null   object\n",
      " 2   Age Group Place         4461 non-null   object\n",
      " 3   Age Group Gender Place  4461 non-null   object\n",
      " 4   Bib                     4461 non-null   object\n",
      " 5   Name                    4461 non-null   object\n",
      " 6   Gender                  4461 non-null   object\n",
      " 7   Country                 4461 non-null   object\n",
      " 8   Time                    4461 non-null   object\n",
      " 9   Verified                4461 non-null   object\n",
      "dtypes: object(10)\n",
      "memory usage: 348.6+ KB\n"
     ]
    }
   ],
   "source": [
    "# Check the data types and non-null values\n",
    "df0.info()"
   ]
  },
  {
   "cell_type": "code",
   "execution_count": 11,
   "metadata": {},
   "outputs": [],
   "source": [
    "# Ensure Place columns are treated as text by prepending an apostrophe\n",
    "df0['Gender Place'] = df0['Gender Place'].apply(lambda x: f\"'{x}\")\n",
    "df0['Age Group Place'] = df0['Age Group Place'].apply(lambda x: f\"'{x}\")\n",
    "df0['Age Group Gender Place'] = df0['Age Group Gender Place'].apply(lambda x: f\"'{x}\")"
   ]
  },
  {
   "cell_type": "code",
   "execution_count": 12,
   "metadata": {},
   "outputs": [],
   "source": [
    "# Normalize the Time column\n",
    "def normalize_time(time_str):\n",
    "    parts = time_str.split(':')\n",
    "    if len(parts) == 2:  # mm:ss\n",
    "        return f\"00:{time_str}\"\n",
    "    elif len(parts) == 3:  # h:mm:ss\n",
    "        return time_str\n",
    "    else:\n",
    "        return time_str  # Return as is if not in the expected format\n",
    "\n",
    "df0['Time'] = df0['Time'].apply(normalize_time)"
   ]
  },
  {
   "cell_type": "code",
   "execution_count": 13,
   "metadata": {},
   "outputs": [
    {
     "data": {
      "text/html": [
       "<div>\n",
       "<style scoped>\n",
       "    .dataframe tbody tr th:only-of-type {\n",
       "        vertical-align: middle;\n",
       "    }\n",
       "\n",
       "    .dataframe tbody tr th {\n",
       "        vertical-align: top;\n",
       "    }\n",
       "\n",
       "    .dataframe thead th {\n",
       "        text-align: right;\n",
       "    }\n",
       "</style>\n",
       "<table border=\"1\" class=\"dataframe\">\n",
       "  <thead>\n",
       "    <tr style=\"text-align: right;\">\n",
       "      <th></th>\n",
       "      <th>Place</th>\n",
       "      <th>Gender Place</th>\n",
       "      <th>Age Group Place</th>\n",
       "      <th>Age Group Gender Place</th>\n",
       "      <th>Bib</th>\n",
       "      <th>Name</th>\n",
       "      <th>Gender</th>\n",
       "      <th>Country</th>\n",
       "      <th>Time</th>\n",
       "      <th>Verified</th>\n",
       "    </tr>\n",
       "  </thead>\n",
       "  <tbody>\n",
       "    <tr>\n",
       "      <th>0</th>\n",
       "      <td>1</td>\n",
       "      <td>'1 / 2324</td>\n",
       "      <td>'1 / 431</td>\n",
       "      <td>'1 / 216</td>\n",
       "      <td>14956</td>\n",
       "      <td>Muntasir Ahmad Abdul Kareem Alzghoul</td>\n",
       "      <td>Male</td>\n",
       "      <td>JO</td>\n",
       "      <td>00:14:45</td>\n",
       "      <td></td>\n",
       "    </tr>\n",
       "    <tr>\n",
       "      <th>1</th>\n",
       "      <td>2</td>\n",
       "      <td>'2 / 2324</td>\n",
       "      <td>'1 / 716</td>\n",
       "      <td>'1 / 375</td>\n",
       "      <td>18494</td>\n",
       "      <td>Darelle Andrade</td>\n",
       "      <td>Male</td>\n",
       "      <td>PH</td>\n",
       "      <td>00:14:45</td>\n",
       "      <td></td>\n",
       "    </tr>\n",
       "    <tr>\n",
       "      <th>2</th>\n",
       "      <td>3</td>\n",
       "      <td>'3 / 2324</td>\n",
       "      <td>'2 / 431</td>\n",
       "      <td>'2 / 216</td>\n",
       "      <td>16354</td>\n",
       "      <td>Mohamed Awny</td>\n",
       "      <td>Male</td>\n",
       "      <td>EG</td>\n",
       "      <td>00:14:45</td>\n",
       "      <td></td>\n",
       "    </tr>\n",
       "    <tr>\n",
       "      <th>3</th>\n",
       "      <td>4</td>\n",
       "      <td>'1 / 2112</td>\n",
       "      <td>'1 / 650</td>\n",
       "      <td>'1 / 354</td>\n",
       "      <td>8902</td>\n",
       "      <td>Bojana Bogojevic</td>\n",
       "      <td>Female</td>\n",
       "      <td>RS</td>\n",
       "      <td>00:14:45</td>\n",
       "      <td></td>\n",
       "    </tr>\n",
       "    <tr>\n",
       "      <th>4</th>\n",
       "      <td>5</td>\n",
       "      <td>'4 / 2324</td>\n",
       "      <td>'1 / 196</td>\n",
       "      <td>'1 / 117</td>\n",
       "      <td>12430</td>\n",
       "      <td>Ephraim Joshua</td>\n",
       "      <td>Male</td>\n",
       "      <td>TZ</td>\n",
       "      <td>00:14:45</td>\n",
       "      <td></td>\n",
       "    </tr>\n",
       "  </tbody>\n",
       "</table>\n",
       "</div>"
      ],
      "text/plain": [
       "  Place Gender Place Age Group Place Age Group Gender Place    Bib  \\\n",
       "0     1    '1 / 2324        '1 / 431               '1 / 216  14956   \n",
       "1     2    '2 / 2324        '1 / 716               '1 / 375  18494   \n",
       "2     3    '3 / 2324        '2 / 431               '2 / 216  16354   \n",
       "3     4    '1 / 2112        '1 / 650               '1 / 354   8902   \n",
       "4     5    '4 / 2324        '1 / 196               '1 / 117  12430   \n",
       "\n",
       "                                   Name  Gender Country      Time Verified  \n",
       "0  Muntasir Ahmad Abdul Kareem Alzghoul    Male      JO  00:14:45           \n",
       "1                       Darelle Andrade    Male      PH  00:14:45           \n",
       "2                          Mohamed Awny    Male      EG  00:14:45           \n",
       "3                      Bojana Bogojevic  Female      RS  00:14:45           \n",
       "4                        Ephraim Joshua    Male      TZ  00:14:45           "
      ]
     },
     "execution_count": 13,
     "metadata": {},
     "output_type": "execute_result"
    }
   ],
   "source": [
    "# Verify the columns and data\n",
    "df0.head()"
   ]
  },
  {
   "cell_type": "code",
   "execution_count": 14,
   "metadata": {},
   "outputs": [
    {
     "name": "stdout",
     "output_type": "stream",
     "text": [
      "<class 'pandas.core.frame.DataFrame'>\n",
      "RangeIndex: 4461 entries, 0 to 4460\n",
      "Data columns (total 10 columns):\n",
      " #   Column                  Non-Null Count  Dtype \n",
      "---  ------                  --------------  ----- \n",
      " 0   Place                   4461 non-null   object\n",
      " 1   Gender Place            4461 non-null   object\n",
      " 2   Age Group Place         4461 non-null   object\n",
      " 3   Age Group Gender Place  4461 non-null   object\n",
      " 4   Bib                     4461 non-null   object\n",
      " 5   Name                    4461 non-null   object\n",
      " 6   Gender                  4461 non-null   object\n",
      " 7   Country                 4461 non-null   object\n",
      " 8   Time                    4461 non-null   object\n",
      " 9   Verified                4461 non-null   object\n",
      "dtypes: object(10)\n",
      "memory usage: 348.6+ KB\n"
     ]
    }
   ],
   "source": [
    "# Check the data types and non-null values\n",
    "df0.info()"
   ]
  },
  {
   "cell_type": "code",
   "execution_count": 15,
   "metadata": {},
   "outputs": [],
   "source": [
    "# Step 8: Save to CSV\n",
    "df0.to_csv('EASD_race_results.csv', index=False)"
   ]
  },
  {
   "cell_type": "code",
   "execution_count": 16,
   "metadata": {},
   "outputs": [],
   "source": [
    "# Step 9: Close the WebDriver\n",
    "driver.quit()"
   ]
  }
 ],
 "metadata": {
  "kernelspec": {
   "display_name": "Python 3",
   "language": "python",
   "name": "python3"
  },
  "language_info": {
   "codemirror_mode": {
    "name": "ipython",
    "version": 3
   },
   "file_extension": ".py",
   "mimetype": "text/x-python",
   "name": "python",
   "nbconvert_exporter": "python",
   "pygments_lexer": "ipython3",
   "version": "3.12.4"
  }
 },
 "nbformat": 4,
 "nbformat_minor": 2
}
